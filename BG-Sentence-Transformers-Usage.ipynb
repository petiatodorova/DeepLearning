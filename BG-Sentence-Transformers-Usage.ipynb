{
 "cells": [
  {
   "cell_type": "code",
   "execution_count": 1,
   "id": "e9cbc88e-8235-4586-a549-7b405b46ad52",
   "metadata": {},
   "outputs": [
    {
     "name": "stdout",
     "output_type": "stream",
     "text": [
      "WARNING:tensorflow:From C:\\Users\\Owner\\.ai-navigator\\conda\\Lib\\site-packages\\tf_keras\\src\\losses.py:2977: The name tf.losses.sparse_softmax_cross_entropy is deprecated. Please use tf.compat.v1.losses.sparse_softmax_cross_entropy instead.\n",
      "\n"
     ]
    }
   ],
   "source": [
    "from sentence_transformers import SentenceTransformer\n",
    "import os"
   ]
  },
  {
   "cell_type": "code",
   "execution_count": 2,
   "id": "d581d80f-f3d2-4486-88d7-178004189d37",
   "metadata": {},
   "outputs": [],
   "source": [
    "os.environ[\"HF_HUB_DISABLE_SYMLINKS_WARNING\"] = \"1\""
   ]
  },
  {
   "cell_type": "code",
   "execution_count": 3,
   "id": "bfe886ff-8593-45ed-ab83-6d93336b81b5",
   "metadata": {},
   "outputs": [],
   "source": [
    "# 1. Load a pre trained Sentence Transformer model\n",
    "model = SentenceTransformer(\"all-MiniLM-L6-v2\")"
   ]
  },
  {
   "cell_type": "code",
   "execution_count": 4,
   "id": "fbfce7c6-6278-4de0-a99f-992e8c6343ec",
   "metadata": {},
   "outputs": [],
   "source": [
    "# The sentences to encode\n",
    "sentences = [\n",
    "    \"Обичам да програмирам.\",\n",
    "    \"Обичам Java.\",\n",
    "    \"Кодирането е моята страст.\",\n",
    "    \"Обичам да ходя в планината.\"\n",
    "]"
   ]
  },
  {
   "cell_type": "code",
   "execution_count": 5,
   "id": "e12a4e34-872e-407b-baa3-615cbec30d0e",
   "metadata": {},
   "outputs": [
    {
     "name": "stdout",
     "output_type": "stream",
     "text": [
      "(4, 384)\n"
     ]
    }
   ],
   "source": [
    "# 2. Calculate embeddings by calling model.encode()\n",
    "embeddings = model.encode(sentences)\n",
    "print(embeddings.shape)\n",
    "# [3, 384]"
   ]
  },
  {
   "cell_type": "code",
   "execution_count": 6,
   "id": "4ea373ca-2e08-42b6-8f0b-cd281395d96f",
   "metadata": {},
   "outputs": [
    {
     "name": "stdout",
     "output_type": "stream",
     "text": [
      "[[ 0.01096072  0.08064756  0.00657724 ...  0.0848637   0.03302584\n",
      "  -0.09351315]\n",
      " [-0.02361605  0.08760989 -0.08702929 ...  0.00973863  0.00445714\n",
      "  -0.07562023]\n",
      " [ 0.0044147   0.08347198 -0.0276956  ...  0.04633387  0.02864954\n",
      "  -0.00027154]\n",
      " [-0.01197719  0.05039482  0.00165197 ...  0.03883511 -0.01016405\n",
      "  -0.07721572]]\n"
     ]
    }
   ],
   "source": [
    "print(embeddings)"
   ]
  },
  {
   "cell_type": "code",
   "execution_count": 7,
   "id": "32ae87a2-9fde-4e9c-857f-c18d91787a10",
   "metadata": {},
   "outputs": [
    {
     "name": "stdout",
     "output_type": "stream",
     "text": [
      "tensor([[1.0000, 0.6444, 0.5920, 0.8255],\n",
      "        [0.6444, 1.0000, 0.4925, 0.6410],\n",
      "        [0.5920, 0.4925, 1.0000, 0.6626],\n",
      "        [0.8255, 0.6410, 0.6626, 1.0000]])\n"
     ]
    }
   ],
   "source": [
    "# 3. Calculate the embedding similarities\n",
    "similarities = model.similarity(embeddings, embeddings)\n",
    "print(similarities)\n",
    "# tensor([[1.0000, 0.6660, 0.1046],\n",
    "#         [0.6660, 1.0000, 0.1411],\n",
    "#         [0.1046, 0.1411, 1.0000]])"
   ]
  },
  {
   "cell_type": "code",
   "execution_count": null,
   "id": "4c2ab442-fe7e-435c-987e-eece92730d2d",
   "metadata": {},
   "outputs": [],
   "source": []
  },
  {
   "cell_type": "code",
   "execution_count": null,
   "id": "9436479a-c8a8-4df2-babd-6974ff528df4",
   "metadata": {},
   "outputs": [],
   "source": []
  },
  {
   "cell_type": "code",
   "execution_count": null,
   "id": "02717a64-a871-4918-8d0e-7f5b5a144210",
   "metadata": {},
   "outputs": [],
   "source": []
  },
  {
   "cell_type": "code",
   "execution_count": null,
   "id": "70a59b1f-9593-45a5-a469-c61f47644c11",
   "metadata": {},
   "outputs": [],
   "source": []
  }
 ],
 "metadata": {
  "kernelspec": {
   "display_name": "Python 3 (ipykernel)",
   "language": "python",
   "name": "python3"
  },
  "language_info": {
   "codemirror_mode": {
    "name": "ipython",
    "version": 3
   },
   "file_extension": ".py",
   "mimetype": "text/x-python",
   "name": "python",
   "nbconvert_exporter": "python",
   "pygments_lexer": "ipython3",
   "version": "3.12.3"
  }
 },
 "nbformat": 4,
 "nbformat_minor": 5
}
