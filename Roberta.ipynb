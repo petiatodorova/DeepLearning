{
 "cells": [
  {
   "cell_type": "code",
   "execution_count": null,
   "id": "bbfd92c2-1a05-46be-9825-f5ea59ca7bb7",
   "metadata": {},
   "outputs": [],
   "source": [
    "import os\n",
    "import pandas as pd\n",
    "from transformers import pipeline\n",
    "from bs4 import BeautifulSoup\n",
    "import pdfplumber"
   ]
  },
  {
   "cell_type": "code",
   "execution_count": null,
   "id": "ceaea250-d610-4c02-8294-d0c4d22cf147",
   "metadata": {},
   "outputs": [],
   "source": [
    "# Load RoBERTa QA pipeline\n",
    "qa_pipeline = pipeline(\"question-answering\", model=\"deepset/roberta-base-squad2\")"
   ]
  },
  {
   "cell_type": "code",
   "execution_count": null,
   "id": "b0e9ac13-f440-4761-82c8-adb2f994fc4b",
   "metadata": {},
   "outputs": [],
   "source": [
    "# Function to extract text from a PDF\n",
    "def extract_text_from_pdf(pdf_path):\n",
    "    text = \"\"\n",
    "    with pdfplumber.open(pdf_path) as pdf:\n",
    "        for page in pdf.pages:\n",
    "            page_text = page.extract_text()\n",
    "            if page_text:\n",
    "                text += page_text + \"\\n\"\n",
    "    return text"
   ]
  },
  {
   "cell_type": "code",
   "execution_count": null,
   "id": "a330485e-d36e-453c-8f74-4f62d399bec4",
   "metadata": {},
   "outputs": [],
   "source": [
    "# Function to extract text from an HTML file\n",
    "def extract_text_from_html(html_path):\n",
    "    with open(html_path, \"r\", encoding=\"utf-8\") as html_file:\n",
    "        soup = BeautifulSoup(html_file, \"html.parser\")\n",
    "        return soup.get_text()"
   ]
  },
  {
   "cell_type": "code",
   "execution_count": null,
   "id": "3ee18eff-24f0-469a-8c6c-5b4e8d48bd61",
   "metadata": {},
   "outputs": [],
   "source": [
    "# Function to extract question-answer pairs from a CSV file\n",
    "def extract_context_from_csv(csv_path):\n",
    "    df = pd.read_csv(csv_path)\n",
    "    context = \"\"\n",
    "    for _, row in df.iterrows():\n",
    "        context += f\"Q: {row['question']} A: {row['answer']}\\n\"\n",
    "    return context"
   ]
  },
  {
   "cell_type": "code",
   "execution_count": null,
   "id": "c293fbf7-50ae-454a-9dd5-626587ca29da",
   "metadata": {},
   "outputs": [],
   "source": [
    "# Function to handle context extraction based on file type\n",
    "def extract_context_from_files(file_paths):\n",
    "    combined_context = \"\"\n",
    "    for file_path in file_paths:\n",
    "        _, ext = os.path.splitext(file_path)\n",
    "        if ext.lower() == \".pdf\":\n",
    "            combined_context += extract_text_from_pdf(file_path) + \"\\n\"\n",
    "        elif ext.lower() in [\".html\", \".htm\"]:\n",
    "            combined_context += extract_text_from_html(file_path) + \"\\n\"\n",
    "        elif ext.lower() == \".csv\":\n",
    "            combined_context += extract_context_from_csv(file_path) + \"\\n\"\n",
    "        else:\n",
    "            print(f\"Unsupported file type: {file_path}\")\n",
    "    return combined_context"
   ]
  },
  {
   "cell_type": "code",
   "execution_count": null,
   "id": "44e0206b-7238-4140-8859-6418287ebbbd",
   "metadata": {},
   "outputs": [],
   "source": [
    "# Function to answer a question given a context\n",
    "def answer_question(question, context):\n",
    "    if not context.strip():\n",
    "        return \"No context available for answering.\"\n",
    "    result = qa_pipeline(question=question, context=context)\n",
    "    return result"
   ]
  },
  {
   "cell_type": "code",
   "execution_count": null,
   "id": "f0273272-b2a7-4d63-a37e-2e62f6ddba4a",
   "metadata": {},
   "outputs": [],
   "source": [
    "# Main Function\n",
    "if __name__ == \"__main__\":\n",
    "    # List of file paths\n",
    "    file_paths = [\n",
    "        \"example1.pdf\",  # Replace with your PDF files\n",
    "        \"example2.html\", # Replace with your HTML files\n",
    "        \"questions_answers.csv\" # Replace with your CSV file\n",
    "    ]"
   ]
  },
  {
   "cell_type": "code",
   "execution_count": null,
   "id": "d2cbcdf3-1c17-4e58-99f6-a619d71c081e",
   "metadata": {},
   "outputs": [],
   "source": [
    "# Extract combined context from files\n",
    "    combined_context = extract_context_from_files(file_paths)"
   ]
  },
  {
   "cell_type": "code",
   "execution_count": null,
   "id": "c94b0fa3-5b02-4aaf-92e4-a88001faa187",
   "metadata": {},
   "outputs": [],
   "source": [
    "# Ask a question\n",
    "    question = \"Какво е RoBERTa?\"  # Example Cyrillic question\n",
    "    result = answer_question(question, combined_context)"
   ]
  },
  {
   "cell_type": "code",
   "execution_count": null,
   "id": "9e959bca-8d17-4914-a740-819124650c88",
   "metadata": {},
   "outputs": [],
   "source": [
    "# Display the answer\n",
    "    print(f\"Question: {question}\")\n",
    "    if isinstance(result, dict):\n",
    "        print(f\"Answer: {result['answer']}\")\n",
    "        print(f\"Confidence Score: {result['score']:.2f}\")\n",
    "    else:\n",
    "        print(result)"
   ]
  }
 ],
 "metadata": {
  "kernelspec": {
   "display_name": "Python 3 (ipykernel)",
   "language": "python",
   "name": "python3"
  },
  "language_info": {
   "codemirror_mode": {
    "name": "ipython",
    "version": 3
   },
   "file_extension": ".py",
   "mimetype": "text/x-python",
   "name": "python",
   "nbconvert_exporter": "python",
   "pygments_lexer": "ipython3",
   "version": "3.12.3"
  }
 },
 "nbformat": 4,
 "nbformat_minor": 5
}
